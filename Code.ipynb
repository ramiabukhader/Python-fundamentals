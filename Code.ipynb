{
 "metadata": {
  "language_info": {
   "codemirror_mode": {
    "name": "ipython",
    "version": 3
   },
   "file_extension": ".py",
   "mimetype": "text/x-python",
   "name": "python",
   "nbconvert_exporter": "python",
   "pygments_lexer": "ipython3",
   "version": "3.8.0-final"
  },
  "orig_nbformat": 2,
  "kernelspec": {
   "name": "Python 3.8.0 32-bit",
   "display_name": "Python 3.8.0 32-bit",
   "metadata": {
    "interpreter": {
     "hash": "c843a75ece6ac4ba1aeebe838d0753a1a3d63fae9e576f0afd31399381a0da5d"
    }
   }
  }
 },
 "nbformat": 4,
 "nbformat_minor": 2,
 "cells": [
  {
   "cell_type": "code",
   "execution_count": 1,
   "metadata": {},
   "outputs": [
    {
     "output_type": "execute_result",
     "data": {
      "text/plain": [
       "dict"
      ]
     },
     "metadata": {},
     "execution_count": 1
    }
   ],
   "source": [
    "#fundemntal data types\n",
    "int\n",
    "float\n",
    "bool\n",
    "str\n",
    "list\n",
    "tuple\n",
    "set\n",
    "dict"
   ]
  },
  {
   "cell_type": "code",
   "execution_count": 16,
   "metadata": {},
   "outputs": [
    {
     "output_type": "stream",
     "name": "stdout",
     "text": [
      "4.5\n"
     ]
    }
   ],
   "source": [
    "# operators\n",
    "\"\"\" + \n",
    "- \n",
    "*\n",
    "/\n",
    "%\n",
    "//\n",
    "** \"\"\"\n",
    "\n",
    "print (9/2)\n"
   ]
  },
  {
   "cell_type": "code",
   "execution_count": 46,
   "metadata": {},
   "outputs": [
    {
     "output_type": "execute_result",
     "data": {
      "text/plain": [
       "'>\\n<\\n==\\n!=\\n>=\\n<='"
      ]
     },
     "metadata": {},
     "execution_count": 46
    }
   ],
   "source": [
    "#comparison \n",
    "\"\"\">\n",
    "<\n",
    "==\n",
    "!=\n",
    ">=\n",
    "<=\"\"\""
   ]
  },
  {
   "cell_type": "code",
   "execution_count": 22,
   "metadata": {},
   "outputs": [
    {
     "output_type": "stream",
     "name": "stdout",
     "text": [
      "My name is \n Ramy\n"
     ]
    }
   ],
   "source": [
    "#escape sequences\n",
    "\n",
    "# \\t,\\n, \\\n",
    "print (\"My name is \\n Ramy\")"
   ]
  },
  {
   "cell_type": "code",
   "execution_count": 37,
   "metadata": {},
   "outputs": [
    {
     "output_type": "stream",
     "name": "stdout",
     "text": [
      "i\nRm\nRamie\n"
     ]
    }
   ],
   "source": [
    "#slicing\n",
    "str2 = \"Rami\"\n",
    "print(str2[3])\n",
    "print (str2[0:4:2]) # [start:stop:stepover]\n",
    "str2 = str2+ \"e\"\n",
    "print(str2)"
   ]
  },
  {
   "cell_type": "code",
   "execution_count": 42,
   "metadata": {},
   "outputs": [
    {
     "output_type": "stream",
     "name": "stdout",
     "text": [
      "[3, 3.5, 'Python', 0]\n[3, 3.5]\n[3, 3.5, 'Python', 'changed']\n"
     ]
    }
   ],
   "source": [
    "#lists\n",
    "list1 = [3,3.5, 'Python', 0]\n",
    "print(list1)\n",
    "print(list1[0:2])\n",
    "list1[3] = \"changed\"\n",
    "print(list1)"
   ]
  },
  {
   "cell_type": "code",
   "execution_count": 45,
   "metadata": {},
   "outputs": [
    {
     "output_type": "stream",
     "name": "stdout",
     "text": [
      "[5]\n"
     ]
    }
   ],
   "source": [
    "mulutidimensional_list = [[1,2,3], [[3,4], 6], [5]]\n",
    "print(mulutidimensional_list[2])"
   ]
  },
  {
   "cell_type": "code",
   "execution_count": 1,
   "metadata": {},
   "outputs": [
    {
     "output_type": "stream",
     "name": "stdout",
     "text": [
      "what is it ?\n",
      "it is , \n",
      " welcome\n"
     ]
    }
   ],
   "source": [
    "#input func\n",
    "print(\"what is it ?\")\n",
    "name = input()\n",
    "print(\"it is \" + name + \", \\n welcome\")"
   ]
  },
  {
   "cell_type": "code",
   "execution_count": 3,
   "metadata": {},
   "outputs": [
    {
     "output_type": "stream",
     "name": "stdout",
     "text": [
      "('se', 'Ba', 'ch')\n"
     ]
    }
   ],
   "source": [
    "#Tuple\n",
    "tuple1 = (\"se\", \"Ba\", \"ch\")\n",
    "print(tuple1)"
   ]
  },
  {
   "cell_type": "code",
   "execution_count": 9,
   "metadata": {},
   "outputs": [
    {
     "output_type": "stream",
     "name": "stdout",
     "text": [
      "sdw\nea\nr\n"
     ]
    }
   ],
   "source": [
    "#set\n",
    "set1 = {\"r\", \"ea\", \"sdw\"}\n",
    "for i in set1:\n",
    "    print(i)"
   ]
  },
  {
   "cell_type": "code",
   "execution_count": 15,
   "metadata": {},
   "outputs": [
    {
     "output_type": "stream",
     "name": "stdout",
     "text": [
      "{'name': 'rami', 'age': 30, 'work': 'student'}\n"
     ]
    },
    {
     "output_type": "execute_result",
     "data": {
      "text/plain": [
       "{'name': 'rami', 'age': 30, 'work': 'student', 'birth': 1995}"
      ]
     },
     "metadata": {},
     "execution_count": 15
    }
   ],
   "source": [
    "#dic for reteriving data, you make your own index\n",
    "dictionary = {\"name\" : \"rami\", \"age\" : 30, \"work\" : \"student\"}\n",
    "print(dictionary)\n",
    "dictionary[\"birth\"] = 1995\n",
    "dictionary"
   ]
  },
  {
   "cell_type": "code",
   "execution_count": 13,
   "metadata": {},
   "outputs": [
    {
     "output_type": "execute_result",
     "data": {
      "text/plain": [
       "'rami'"
      ]
     },
     "metadata": {},
     "execution_count": 13
    }
   ],
   "source": [
    "dictionary[\"name\"]"
   ]
  },
  {
   "cell_type": "code",
   "execution_count": 27,
   "metadata": {},
   "outputs": [],
   "source": [
    "#functions\n",
    "def yu(name):\n",
    "    print(\"try, \" + name + \" and don't give up :p\")\n",
    "    #return print"
   ]
  },
  {
   "cell_type": "code",
   "execution_count": 28,
   "metadata": {},
   "outputs": [
    {
     "output_type": "stream",
     "name": "stdout",
     "text": [
      "try, rami and don't give up :p\n"
     ]
    }
   ],
   "source": [
    "yu('rami')"
   ]
  },
  {
   "cell_type": "code",
   "execution_count": 32,
   "metadata": {},
   "outputs": [],
   "source": [
    "def arg(name1, name2):\n",
    "    if name1 == name2:\n",
    "        return name1\n",
    "    else: \n",
    "        return name2"
   ]
  },
  {
   "cell_type": "code",
   "execution_count": 36,
   "metadata": {},
   "outputs": [
    {
     "output_type": "execute_result",
     "data": {
      "text/plain": [
       "'david'"
      ]
     },
     "metadata": {},
     "execution_count": 36
    }
   ],
   "source": [
    "arg(\"rami\", \"david\")"
   ]
  },
  {
   "cell_type": "code",
   "execution_count": 46,
   "metadata": {},
   "outputs": [],
   "source": [
    "#recursion : when a cfucntion calls itself\n",
    "def recursion(c):\n",
    "    if (c >0):\n",
    "        res = c + recursion(c-1)\n",
    "        print(res)\n",
    "    else:\n",
    "        res = 0\n",
    "    return res"
   ]
  },
  {
   "cell_type": "code",
   "execution_count": 47,
   "metadata": {},
   "outputs": [
    {
     "output_type": "stream",
     "name": "stdout",
     "text": [
      "1\n3\n6\n10\n"
     ]
    },
    {
     "output_type": "execute_result",
     "data": {
      "text/plain": [
       "10"
      ]
     },
     "metadata": {},
     "execution_count": 47
    }
   ],
   "source": [
    "recursion(43)"
   ]
  },
  {
   "cell_type": "code",
   "execution_count": 49,
   "metadata": {},
   "outputs": [
    {
     "output_type": "execute_result",
     "data": {
      "text/plain": [
       "int"
      ]
     },
     "metadata": {},
     "execution_count": 49
    }
   ],
   "source": [
    "#built in fucntions\n",
    "#print()\n",
    "#input()\n",
    "se = 30\n",
    "type(se)"
   ]
  },
  {
   "cell_type": "code",
   "execution_count": 51,
   "metadata": {},
   "outputs": [
    {
     "output_type": "execute_result",
     "data": {
      "text/plain": [
       "16"
      ]
     },
     "metadata": {},
     "execution_count": 51
    }
   ],
   "source": [
    "#lambda: can take any number of arguments, but can only have one experession\n",
    "attrib = lambda a: a+10\n",
    "attrib(6)"
   ]
  },
  {
   "cell_type": "code",
   "execution_count": 57,
   "metadata": {},
   "outputs": [],
   "source": [
    "def func1(ab):\n",
    "    return lambda abc: abc*ab"
   ]
  },
  {
   "cell_type": "code",
   "execution_count": 60,
   "metadata": {},
   "outputs": [
    {
     "output_type": "execute_result",
     "data": {
      "text/plain": [
       "<function __main__.func1.<locals>.<lambda>(abc)>"
      ]
     },
     "metadata": {},
     "execution_count": 60
    }
   ],
   "source": [
    "func1(4)"
   ]
  },
  {
   "cell_type": "code",
   "execution_count": 68,
   "metadata": {},
   "outputs": [
    {
     "output_type": "stream",
     "name": "stdout",
     "text": [
      "rami\n25\n"
     ]
    }
   ],
   "source": [
    "# object oriented programming\n",
    "# object has attribute and behaviour\n",
    "# creating usable code with oop\n",
    "\n",
    "class person:\n",
    "    def __init__(self, name, age):\n",
    "        self.name = name\n",
    "        self.age = age\n",
    "p1 = person(\"rami\", 25)\n",
    "print(p1.name)\n",
    "print(p1.age)"
   ]
  },
  {
   "cell_type": "code",
   "execution_count": 89,
   "metadata": {},
   "outputs": [
    {
     "output_type": "stream",
     "name": "stdout",
     "text": [
      "rami\nhey rami\n40\n"
     ]
    },
    {
     "output_type": "error",
     "ename": "AttributeError",
     "evalue": "'human' object has no attribute 'age'",
     "traceback": [
      "\u001b[1;31m---------------------------------------------------------------------------\u001b[0m",
      "\u001b[1;31mAttributeError\u001b[0m                            Traceback (most recent call last)",
      "\u001b[1;32m<ipython-input-89-c3c837e0e9a6>\u001b[0m in \u001b[0;36m<module>\u001b[1;34m\u001b[0m\n\u001b[0;32m     12\u001b[0m \u001b[0mprint\u001b[0m\u001b[1;33m(\u001b[0m\u001b[0mp1\u001b[0m\u001b[1;33m.\u001b[0m\u001b[0mage\u001b[0m\u001b[1;33m)\u001b[0m\u001b[1;33m\u001b[0m\u001b[1;33m\u001b[0m\u001b[0m\n\u001b[0;32m     13\u001b[0m \u001b[1;32mdel\u001b[0m\u001b[1;33m(\u001b[0m\u001b[0mp1\u001b[0m\u001b[1;33m.\u001b[0m\u001b[0mage\u001b[0m\u001b[1;33m)\u001b[0m\u001b[1;33m\u001b[0m\u001b[1;33m\u001b[0m\u001b[0m\n\u001b[1;32m---> 14\u001b[1;33m \u001b[0mprint\u001b[0m\u001b[1;33m(\u001b[0m\u001b[0mp1\u001b[0m\u001b[1;33m.\u001b[0m\u001b[0mage\u001b[0m\u001b[1;33m)\u001b[0m\u001b[1;33m\u001b[0m\u001b[1;33m\u001b[0m\u001b[0m\n\u001b[0m",
      "\u001b[1;31mAttributeError\u001b[0m: 'human' object has no attribute 'age'"
     ]
    }
   ],
   "source": [
    "#methods\n",
    "class human:\n",
    "    def __init__(self, name, age):\n",
    "        self.name = name\n",
    "        self.age = age\n",
    "    def func3(self):\n",
    "       print(\"hey \" + self.name)     \n",
    "p1 = human(\"rami\", 25)\n",
    "print(p1.name)\n",
    "p1.func3()\n",
    "p1.age = 40\n",
    "print(p1.age)\n",
    "del(p1.age)\n",
    "print(p1.age)"
   ]
  },
  {
   "cell_type": "code",
   "execution_count": 96,
   "metadata": {},
   "outputs": [
    {
     "output_type": "stream",
     "name": "stdout",
     "text": [
      "rami khader\n"
     ]
    }
   ],
   "source": [
    "#inheritance: call other methods from another class\n",
    "class inhe:\n",
    "    def __init__(self, name, lastname):\n",
    "        self.name = name\n",
    "        self.lastname = lastname\n",
    "\n",
    "    def printname(self):\n",
    "        print(self.name, self.lastname)\n",
    "abc = inhe(\"rami\", \"khader\")\n",
    "abc.printname()\n",
    "\n",
    "#Child class\n",
    "class childd(inhe):\n",
    "    def __init__(self, first, last, year):\n",
    "        super().__init__(first, last)\n",
    "        self.year = year\n",
    "    def welcome(self):\n",
    "        print(\"hey \", self.first ,  self.last, \"welcome\", self.year)"
   ]
  },
  {
   "cell_type": "code",
   "execution_count": 101,
   "metadata": {},
   "outputs": [
    {
     "output_type": "stream",
     "name": "stdout",
     "text": [
      "1\n"
     ]
    }
   ],
   "source": [
    "#iterators: consists of methods iter and next\n",
    "class Iteration:\n",
    "    def __iter__(self):\n",
    "        self.a = 1\n",
    "        return self\n",
    "    def __next__(self):\n",
    "        x = self.a\n",
    "        self.a += 1\n",
    "        return x\n",
    "myclass = Iteration()\n",
    "myiteration = iter(myclass)\n",
    "print(next(myiteration))"
   ]
  },
  {
   "cell_type": "code",
   "execution_count": 102,
   "metadata": {},
   "outputs": [
    {
     "output_type": "stream",
     "name": "stdout",
     "text": [
      "10\n"
     ]
    }
   ],
   "source": [
    "#scopes: local and  global\n",
    "def func():\n",
    "    ab = 10\n",
    "    print(ab)\n",
    "func()"
   ]
  },
  {
   "cell_type": "code",
   "execution_count": 105,
   "metadata": {},
   "outputs": [
    {
     "output_type": "stream",
     "name": "stdout",
     "text": [
      "20\n30\n"
     ]
    }
   ],
   "source": [
    "#global\n",
    "def func():\n",
    "    global ab\n",
    "    ab = 20\n",
    "    print(ab)\n",
    "func()\n",
    "print(ab+ 10)"
   ]
  },
  {
   "cell_type": "code",
   "execution_count": 114,
   "metadata": {},
   "outputs": [],
   "source": [
    "#date\n",
    "import datetime as dt"
   ]
  },
  {
   "cell_type": "code",
   "execution_count": 120,
   "metadata": {},
   "outputs": [
    {
     "output_type": "stream",
     "name": "stdout",
     "text": [
      "2020-10-11 17:14:34.675851\n"
     ]
    }
   ],
   "source": [
    "\n",
    "a = dt.datetime.now()\n",
    "print(a)"
   ]
  },
  {
   "cell_type": "code",
   "execution_count": 127,
   "metadata": {},
   "outputs": [
    {
     "output_type": "stream",
     "name": "stdout",
     "text": [
      "November\n"
     ]
    }
   ],
   "source": [
    "s = dt.datetime(2020,11,11)\n",
    "print(s.strftime(\"%B\"))"
   ]
  },
  {
   "cell_type": "code",
   "execution_count": null,
   "metadata": {},
   "outputs": [],
   "source": []
  }
 ]
}