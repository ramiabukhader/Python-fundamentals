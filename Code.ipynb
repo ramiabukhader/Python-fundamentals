{
 "metadata": {
  "language_info": {
   "codemirror_mode": {
    "name": "ipython",
    "version": 3
   },
   "file_extension": ".py",
   "mimetype": "text/x-python",
   "name": "python",
   "nbconvert_exporter": "python",
   "pygments_lexer": "ipython3",
   "version": "3.8.0-final"
  },
  "orig_nbformat": 2,
  "kernelspec": {
   "name": "Python 3.8.0 32-bit",
   "display_name": "Python 3.8.0 32-bit",
   "metadata": {
    "interpreter": {
     "hash": "c843a75ece6ac4ba1aeebe838d0753a1a3d63fae9e576f0afd31399381a0da5d"
    }
   }
  }
 },
 "nbformat": 4,
 "nbformat_minor": 2,
 "cells": [
  {
   "cell_type": "code",
   "execution_count": 1,
   "metadata": {},
   "outputs": [
    {
     "output_type": "execute_result",
     "data": {
      "text/plain": [
       "dict"
      ]
     },
     "metadata": {},
     "execution_count": 1
    }
   ],
   "source": [
    "#fundemntal data types\n",
    "int\n",
    "float\n",
    "bool\n",
    "str\n",
    "list\n",
    "tuple\n",
    "set\n",
    "dict"
   ]
  },
  {
   "cell_type": "code",
   "execution_count": 16,
   "metadata": {},
   "outputs": [
    {
     "output_type": "stream",
     "name": "stdout",
     "text": [
      "4.5\n"
     ]
    }
   ],
   "source": [
    "# operators\n",
    "\"\"\" + \n",
    "- \n",
    "*\n",
    "/\n",
    "%\n",
    "//\n",
    "** \"\"\"\n",
    "\n",
    "print (9/2)\n"
   ]
  },
  {
   "cell_type": "code",
   "execution_count": 46,
   "metadata": {},
   "outputs": [
    {
     "output_type": "execute_result",
     "data": {
      "text/plain": [
       "'>\\n<\\n==\\n!=\\n>=\\n<='"
      ]
     },
     "metadata": {},
     "execution_count": 46
    }
   ],
   "source": [
    "#comparison \n",
    "\"\"\">\n",
    "<\n",
    "==\n",
    "!=\n",
    ">=\n",
    "<=\"\"\""
   ]
  },
  {
   "cell_type": "code",
   "execution_count": 22,
   "metadata": {},
   "outputs": [
    {
     "output_type": "stream",
     "name": "stdout",
     "text": [
      "My name is \n Ramy\n"
     ]
    }
   ],
   "source": [
    "#escape sequences\n",
    "\n",
    "# \\t,\\n, \\\n",
    "print (\"My name is \\n Ramy\")"
   ]
  },
  {
   "cell_type": "code",
   "execution_count": 37,
   "metadata": {},
   "outputs": [
    {
     "output_type": "stream",
     "name": "stdout",
     "text": [
      "i\nRm\nRamie\n"
     ]
    }
   ],
   "source": [
    "#slicing\n",
    "str2 = \"Rami\"\n",
    "print(str2[3])\n",
    "print (str2[0:4:2]) # [start:stop:stepover]\n",
    "str2 = str2+ \"e\"\n",
    "print(str2)"
   ]
  },
  {
   "cell_type": "code",
   "execution_count": 42,
   "metadata": {},
   "outputs": [
    {
     "output_type": "stream",
     "name": "stdout",
     "text": [
      "[3, 3.5, 'Python', 0]\n[3, 3.5]\n[3, 3.5, 'Python', 'changed']\n"
     ]
    }
   ],
   "source": [
    "#lists\n",
    "list1 = [3,3.5, 'Python', 0]\n",
    "print(list1)\n",
    "print(list1[0:2])\n",
    "list1[3] = \"changed\"\n",
    "print(list1)"
   ]
  },
  {
   "cell_type": "code",
   "execution_count": 45,
   "metadata": {},
   "outputs": [
    {
     "output_type": "stream",
     "name": "stdout",
     "text": [
      "[5]\n"
     ]
    }
   ],
   "source": [
    "mulutidimensional_list = [[1,2,3], [[3,4], 6], [5]]\n",
    "print(mulutidimensional_list[2])"
   ]
  },
  {
   "cell_type": "code",
   "execution_count": 1,
   "metadata": {},
   "outputs": [
    {
     "output_type": "stream",
     "name": "stdout",
     "text": [
      "what is it ?\n",
      "it is , \n",
      " welcome\n"
     ]
    }
   ],
   "source": [
    "#input func\n",
    "print(\"what is it ?\")\n",
    "name = input()\n",
    "print(\"it is \" + name + \", \\n welcome\")"
   ]
  },
  {
   "cell_type": "code",
   "execution_count": 3,
   "metadata": {},
   "outputs": [
    {
     "output_type": "stream",
     "name": "stdout",
     "text": [
      "('se', 'Ba', 'ch')\n"
     ]
    }
   ],
   "source": [
    "#Tuple\n",
    "tuple1 = (\"se\", \"Ba\", \"ch\")\n",
    "print(tuple1)"
   ]
  },
  {
   "cell_type": "code",
   "execution_count": 9,
   "metadata": {},
   "outputs": [
    {
     "output_type": "stream",
     "name": "stdout",
     "text": [
      "sdw\nea\nr\n"
     ]
    }
   ],
   "source": [
    "#set\n",
    "set1 = {\"r\", \"ea\", \"sdw\"}\n",
    "for i in set1:\n",
    "    print(i)"
   ]
  },
  {
   "cell_type": "code",
   "execution_count": 15,
   "metadata": {},
   "outputs": [
    {
     "output_type": "stream",
     "name": "stdout",
     "text": [
      "{'name': 'rami', 'age': 30, 'work': 'student'}\n"
     ]
    },
    {
     "output_type": "execute_result",
     "data": {
      "text/plain": [
       "{'name': 'rami', 'age': 30, 'work': 'student', 'birth': 1995}"
      ]
     },
     "metadata": {},
     "execution_count": 15
    }
   ],
   "source": [
    "#dic for reteriving data, you make your own index\n",
    "dictionary = {\"name\" : \"rami\", \"age\" : 30, \"work\" : \"student\"}\n",
    "print(dictionary)\n",
    "dictionary[\"birth\"] = 1995\n",
    "dictionary"
   ]
  },
  {
   "cell_type": "code",
   "execution_count": 13,
   "metadata": {},
   "outputs": [
    {
     "output_type": "execute_result",
     "data": {
      "text/plain": [
       "'rami'"
      ]
     },
     "metadata": {},
     "execution_count": 13
    }
   ],
   "source": [
    "dictionary[\"name\"]"
   ]
  },
  {
   "cell_type": "code",
   "execution_count": null,
   "metadata": {},
   "outputs": [],
   "source": []
  }
 ]
}