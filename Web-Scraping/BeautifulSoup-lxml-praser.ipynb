{
 "metadata": {
  "language_info": {
   "codemirror_mode": {
    "name": "ipython",
    "version": 3
   },
   "file_extension": ".py",
   "mimetype": "text/x-python",
   "name": "python",
   "nbconvert_exporter": "python",
   "pygments_lexer": "ipython3",
   "version": "3.8.3-final"
  },
  "orig_nbformat": 2,
  "kernelspec": {
   "name": "python3",
   "display_name": "Python 3"
  }
 },
 "nbformat": 4,
 "nbformat_minor": 2,
 "cells": [
  {
   "cell_type": "code",
   "execution_count": 1,
   "metadata": {},
   "outputs": [],
   "source": [
    "import requests\n",
    "from bs4 import BeautifulSoup"
   ]
  },
  {
   "cell_type": "code",
   "execution_count": 2,
   "metadata": {},
   "outputs": [],
   "source": [
    "url = 'https://www.codechef.com/problems/easy/'\n",
    "res = requests.get(url)"
   ]
  },
  {
   "cell_type": "code",
   "execution_count": 3,
   "metadata": {},
   "outputs": [],
   "source": [
    "page = BeautifulSoup(res.text, 'lxml')"
   ]
  },
  {
   "cell_type": "code",
   "execution_count": 4,
   "metadata": {},
   "outputs": [],
   "source": [
    "datatable_tags = page.select('table.dataTable') # from this code, we get inside the whole table"
   ]
  },
  {
   "cell_type": "code",
   "execution_count": 5,
   "metadata": {},
   "outputs": [],
   "source": [
    "datatable = datatable_tags[0]"
   ]
  },
  {
   "cell_type": "code",
   "execution_count": 6,
   "metadata": {},
   "outputs": [],
   "source": [
    "problem_tags = datatable.select('a > b') #where are going to b tag from a tag"
   ]
  },
  {
   "cell_type": "code",
   "execution_count": 7,
   "metadata": {},
   "outputs": [],
   "source": [
    "prob_names = [tag.getText().strip() for tag in problem_tags]"
   ]
  },
  {
   "cell_type": "code",
   "execution_count": 9,
   "metadata": {
    "tags": [
     "outputPrepend"
    ]
   },
   "outputs": [
    {
     "output_type": "stream",
     "name": "stdout",
     "text": [
      "ock and His Device\nHelping Dustin\nArya and the Grid of Stars\nSome Impact\nSurgical Strikes\nMaximize Walk Value\nMaximum Special Sum\nChef Rami and Inventions\nWar in Treeland Again\nE - Guess the Number\nD-Value\nHidden Sequence\nGrumpy Granny\nTransmutation Diamonds\nChef and Or\nChef and Soccer\nChef and Average on a Tree\nChef Restores an Array\nGukiZ Has More Candies\nTree Unattractiveness\nAntimatching\nRoss goes for Shopping\nCats and Rats\nCersei and her Soldiers\nCodechef War\nEquivalent Exchange of Triangles\nConservative Graph\nCherry and Pyramid\nElevator\nWanderer\nTennis\nPrime-partite Graph\nChef Likes Good Sequences\nTaxi Making Sharp Turns\nLighting Rectangle\nD - Break the Rules\nWalk 4 steps\nChefland and Average Distance\nA Game of Primes\nBLACK LINE\nJoined Subarrays on Tree\nMercury Poisoning\nAwkward Pairs\nCountry Tour\nDirecting Edges\nRoll the Bar\nLogarithmic Equation\nRooted Tree Graph\nTriple-tree decomposition\nSubtract Leading Digit\nChef and Fencing\nAnalytics Load Jobs\nCrash It\nCorruption in Freedonia\nChef Shifu and Celebration\nHull Sum\nMEX-ception\nMalvika conducts her own ACM-ICPC contest series\nYet Another Balanced Parenthesis Problem\nChef and Periodic Sequence\nMaximize It\nIs it Sorted or Not, That is the Question\nChef and Inflation\nChef and His Garden\nAda Pawns\nBeautiful Circles\nMake array great again\nChef and Surprise Chessboard\nSereja and Two Lines\nMaximum Disjoint Subarrays\nMinimax\nBlack Nodes in Subgraphs\nNested Candy Boxes\nNiceness of the Arrays\nSiruseri Gerrymandering\nSereja and Two Strings 2\nGenerating A Permutation\nPartition into Permutations\nChef and Cycled Cycles\nChef and Pizza\nColoring Intervals\nChef and Yoda\nYalalovichik Strings\nAvailability\nLongest Xommon Subsequence\nIPL Begins\nInversions in Permutations\nXor Jar Muluk Tar\nSummation over nCr\nFuzzy Conversions\nTwo-lane Road\nAwkwardness Minimization\nDifficult Choice\nMartingale\nHow many Scholarships\nProfitable Paths 2\nCompany and Club Hierarchies\nReturn of the Gargoyle King\nDream Problem\nExpected Product\nInfinite Increments\nBanana String\nChef and Triangles\nNumber Game\nMaximum Scoring Position\nAutonomous Cars\nBag of Tiles\nEqualize\nA Game of Balls\nChef and Meatballs\nChef Does Coke Yet Again\nRobots in Chefland\nChef and Trees\nChef and Triangles\nDigits Cannot Separate\nInverse Knapsack\nPalindromic Queries\nA Tale of Two Right Angled Triangles\nSAD Queries\nWeirwood Trees\nSuffix Palindromes\nOur Base is Under Attack\nHighway Crossing\nYet Another Partition Problem\nBig Queries\nLong Homework\nOld Farmer\nSamosa Bhai and his Courier Company\nKilling Zombies\nInterval Game\nShort in Average\nGo Round\nKth Max Subarray\nRun Direction\nConvolution\nRectangles of Love\nMatrix Transformation\nWhat is the Cost of Reading\nChef Challenge\nExpected Candies\nChef and cinema\nChef and his Best Friend\nWarriors\nAbdullah and Toll Discounts\nChef and Segments\nCoordinate Compression\nObtain Desired Expected Value\nUseless Clocks\nSebi and the cube\nBogosort\nChef and collection of stamps\nPost Tree\nEarning A Profit\nHow many Topics\nDevu and a light discussion\nChef and Circle Run\nProfessor on a Trip\nCounting Inversions Again!\nUp for a Game\nJust a simple sum\nExpected Area\nChef and Pepperoni Pizza Again\nTelephone Network\nFlu Shot Lineup\nA Pizza Slice\nMaximal Score Path\nChef and Two String\nFind an element in hidden array\nGolf course\nRandomly Testing Circuits\nOmax\nObstacle Course\nWhole submatrix\nDefacing Score\nFenwick Iterations\nFastFood Combos\nTreasure Hunting\nRendezvous\nByteknights and Byteknaves\nA-E Hash Function\nCube Cakes\nEasy Numbers\nTravelling Saleschef\nLittle Elephant and Magic\nSereja and Transformation\nChef and Combinatorics\nDoubly Increasing Path\nSnake Snaky\nSuper-plane\nChang and Perfect Quadruples\nTable Game\nGolden Trees\nMaximize Grid Score\nCutting Pizza\nThe In-XOR-able Task\nPacking the Golden Triangles\nDelicious Dishes\nBear and Segments\nTree Expectancy\nGCD Sum\nFitness Exercises\nCiel and Map\nNeed More Diamonds\nAnkit, Srijan and a game of stone piles\nThe Christmas Gift\nTri-Hexagonal Puzzle\nBrush Fire\nReceipt Recovery\nEndgame\nBanned Quotient\nTennis Tournament\nMaximal crosses\nC - Club of Riders\nFinding Teammate\nPerfection\nAlgebra Score\nExploding Search\nKnight Covering\nToo Much Sweetness\nBeauty of Konoha\nFast squarer\nBiladerim Icin\nGame\nFolding Paper\nNikhils Dungeon\nMost Popular Friend\nInfinite Grid Game\nLucky Palin\nLittle Elephant and Order\nAlien Chefs\nCircle of death\nB - Candy Love\nThe Guessing Game\nMethod Resolution Order\nGeneralized Arithmetic Progression Free Sequence\nArranging the Inventory\nLittle Elephant and Balloons\nThe Grux Permutation\nLucky Number\nLighthouses\nChef and Tic-Tac-Toe\nA Simple Game\nSubsequence Frequency Counting\nYet Another Nice Girl\nProtecting The Poison\nGears\nA Triangle and Two Squares\nGuess It Right\nFibonacci Queries\nThe Great Wall of Byteland\nChef Travel Routes\nGood Numbers\nBIT Magazine\nSave The Trees\nPriya and Parity\nPlant Location\nBreaking Into Atoms\nChefs new Pet\nReach Equilibrium\nNo Strings Attached\nChef and Diamonds\nEscape One\nChef and Filters\nEugene and big number\nStepping Up\nCracking the Code\nTwo Flowers\nKira Loves Palindromes\nHouses and Restaurants\nBase Plans\nFlooring\nPseudo Sorting Algorithm\nLearning Dishes\nPrecious Stones\nProfitable Paths\nRectangles Counting\nChef Teams\nSocializing Game around Pizza\nMex division\nPizza Party\nA Few Laughing Men\nChipped Tree\nLongest Weird Subsequence\nPuppy and Catchers\nSealing up\nChange the Signs\nAND Plus OR\nJurassic Park\nA Tale of Three Squares\nThe Black and White Knights\nMaximize Diversity of an Array\nThe In-XOR-able Task\nCount Relations\nDish Distribution\nCAO Stage-2\nXD Subsequences\nMike and Stamps\nChef and sequence\nEqualization\nChef and GCD Game\nSign Wave\nLittle Elephant and Balance\nChef and Square Set\nCorrupted Seven-Segment Display\nFuzzy Linear Combinations\nSereja and Graph\nFly height mode\nWaiting in Queue\nRandom decreasing function\nChef and Robots Competition\nChef and Subsequences\nVision\nGood Median\nMinimum Insertions\nTrip\nForced Output\nFriends Meeting\nYet Another Problem About Sequences\nA Small Array\nTriangle Query\nPlane Division\nA - Appearance Count\nDraughts\nChef and His Friend\nGet a Bucket of Water\nRobot Movings\nSufficiently different string\nChef and Two Queens\nFighting Armies\nMissing Number\nChef and Cake\nChef and Triangles\nChef and Dice\nYounger Brother\nPermutation Split\nWeight of Numbers\nW String\nChef and Strange Operations\nLucky Count\nDevu And Churu\n1-2 Game\nLittle Elephant and Mouses\nChef and Trump Cards\nChef and Codes\nSecond Largest Element\nTreeversion\nChef and Railway Stations\nThe Rise and Fall of Power\nDifferent Neighbours\nMean Problem\nChef and Circles\nColliding Balls\nChef and Two Fans\nThe making of a cake\nChef and a great voluntary Program\nChef and Interactive XOR\nEven Odd subsequences\nBeats and Pieces\nPainting Racing Lanes\nChef's Dream\nAre These Equal\nLittle Elephant and Bamboo\nBinary Tournament\nEugene and function\nChef and Land\nGreedy Candidates\nOptimize The Slow Code\nChef and Array and K\nLittle Elephant and Cards\nThe Lost Arithmetic Sequences\nL-R queries\nMusic Shopping\nChefina and Sums\nABABAABA\nCenteroid\nOne Dimensional Game of Life\nForces in the crystal\nChef and Cookies\nIs This JEE\nChef And Fibonacci Array\nKirito in labyrinth\nCooking Game\nMatrix\nLong Contest and Cook Off Overlaps\nMatrix and Chef\nRandom Game\nSame Snake\nLittle Elephant and Exams\nColored Array\nChef and Submatrix\nSebi and the corrupt goverment\nFirdavs and Planet F\nExpected Xor\nAngry Grandfather\nLavanya Loves DFA\nField Trip\nChef And The Hiring Event\nGru is Handing Out Bananas\nSecret Mission\nGerrymander\nSubtraction Game\nTree Game\nDevu and his Class\nMinimize the string\nBad Shuffle\nJeremy gets a gift\nTime measure\nDevu and Perfume\nCount the squares\nCollision in Space\nChef and Operations\nSheokand and String\nFake Binary Search\nChef and Tetris\nTraversing Trees\nSums in a cuboid\nGift and Chef\nChefTown Parade\nPalindromic Game\nChef and String\nChef and Hamming Distance of arrays\nPrefix Numbers\nSteady tables\nQuadratic Functions\nMoving Segments\nMaxim and Progressions\nChef and Strings\nUseful Number\nChef Hates Palindromes\nGreatest Dumpling Fight\nGraph on an Array\nAppy Loves One\nTwo Circles\nChef and Strange Matrix\nChef and Balls\nMaximum Plus\nChef and Strange Addition\nCounter Test For CHEFSUM\nChef and Square\nMr Wireless\nMasterChef\nReign\nSnakes and their coup against The mongoose\nGolomb Sequence\nA Weird Device\nFrom Zero to Infinity\nSereja and Line\nCounting Graphs\nTennis Tournament\nGreg and Grid\nNo Minimum No Maximum\nVote for the Noodle Soup\nMoving Coins\nQuery over Matrix\nConsecutive Snakes\nA-B Game\nAda Matrix\nForced Particles\nChef and calculation\nDelete a Subarray\nMake A Square\nEnd Of The World\nAditi and Magic Trick\nSearching for a Biclique\nSherlock and the Ugly Flower\nCount Periodic Numbers\nFind XOR\nBathwater\nKGP Summers\nProblem Sort\nChefina and Ranges\nPalindromic Numbers\nBank robbery\nChef Designed a Network\nChef and Piano Scales\nRainbow Graph\nDish Of Life\nYet Again a Subarray Problem\nChef and Subarrays\nWhere to Build the Roads\nCount Good Prefixes\nRational Numbers\nMagic School\nReady Bitwise\nMaximum Subsequence Sum\nBear and Shop Trip\nHelping Hands\nChef and Bracket-Pairs\nSpheres\nThe New Scheme\nEscape the Tree\nCount palindromes\nCapturing Bird in A Camera\nManhattan Rectangle\nChef and Sorting\nGuess the Prime!\nMinimum SubArray\nTower Counting\nA New Number System\nTourists in Mancunia\nChairs\nLongest non regular parentheses sub-sequence\nChuru and Balls\nChef and Escaping from the Labyrinth\nThree is Crowd\nMost Frequent Element\nCircular Merging\nSignature\nPrime divisors\nHelp Watson Escape\nSave The Princess\nChef and Sub Array\nPaint the Wall\nCount Permutations\nDevu and his mouse Jerry\nPuppy and Board\nChefland and Electricity\nPenalty Shoot-out\nChef and Rainbow Array - 2\nChef and Segment Game\nChef and squares\nChef and Ingredients\nBear and Species\nLent Money\nChef and Minimum Colouring\nChef and Mover\nA String Game\nStacking Pancakes\nMinion AND Range\nCiel and Tomya\nChef and The Divisibility Queries\nOperations on a Tuple\nChef And Binary Operation\nWitua and Math\nLasers Everywhere\nGame with numbers\nDevu and binary String\nChuru and lost string\nWord Stem\nGarden Game\nBuddy NIM\nCar-pal Tunnel\nCiel and New Menu\nChef and cakes\nYet Another Cute Girl\nBear and House Queries\nBear and Row 01\nChef and Big Soccer\nConstruct Array\nOnline Chess\nRemy paints the fence\nPeriodic Palindrome Construction\nChef and A Large Permutation\nReservior\nChef Goes Through Segments\nThe Largest Bouquet\nChef And The Patents\nRectangular Queries\nChef and Friends\nChoosing from Buckets\nCoronavirus Spread 2\nChef and math\nChef And Special Dishes\nPartition the numbers\nMalvika conducts a Programming Camp\nHow to Repaint a Fence\nBinary XOR\nTree Product\nSuperheroes and villains\nPurify It\nAddition\nLyra and the Alethiometer\nForgot Password\nInfinite OR Game\nRupsa and Equilateral Triangle\nGukiZ and Candies\nChef and Ridges\nBinary Shuffle\nXor It\nSridhar Likes Travelling\nIs It a Snake\nStrategy for the World Cup\nArt of Balance\nSpread the Word\nChef goes Left Right Left\nMix Mix Game\nWashing Windows\nCount Sequences\nEven Edges\nSquare Submatrices\nSum of pairs\nOracle Devu and Longest Common Subsequence\nToo Many Candies\nRed-blue Trees\nTriplets\nImpressing Chefina\nMaximum K Sums\nBlocked websites\nThe Evil Professor\nPairwise union of sets\nSereja and Commands\nAnts and Anteaters\nWar of XORs\nLittle Elephant and Alcohol\nChef and Happiness\nBalanced Array\nDibs on Fibs\nString Merging\nBear and Clique Distances\nMarkers and Caps\nIgzi and Burly Array\nPetersen Graph\nCalculator\nMaximize Letter Beauty\nCooking Schedule\nReplace for X\nChef and Strange Formula\nChef and Good Subsequences\nThe Biggest Restaurant\nChef and Polygons\nChef and Modulo Game\nPhysical Exercise\nChef and Bitwise Product\nCount Substrings\nMathison and the Dynamo shuffle\nDestroy Cells\nReverse Maximisation\nThe Theatre Problem\nK-good Words\nDoom Bakes Cakes\nChef and Card Trick\nButton Pairs\nMinimize Digitsum\nAkhil And Random String\nCool Guys\nPizza or Broccoli\nRange AND\nRemember the recipe\nMighty Friend\nAddition and Multiplication\nLumpy - The Bus Driver\nFill The Matrix\nCount Substrings\nA Plus B Again!\nChain of Doughnuts\nPredictopus\nBread\nCompression Algorithm\nChef and Queries\nSkyscraper Equilibrium\nBandwidth of a matrix\nAppy and Balloons\nChef and Red Black Tree\nLock-Free Stack\nYalalovichik Numbers\nSnakes and transition from Capitalism to Socialism\nChef and Pick Digit\nMake Him Happy\nChef and Sign Sequences\nBook Exercises\nChef and Round Run\nAverage of Pairs\nChef And Magical Path\nRobot Detector\nBlack And White Cells\nChef and the Feast\nSuper Numbers\nTriple Sort\nRoad Signs\nNa2a and lucky stone\nWeight of Numbers\nRupsa and Number army\nCAO Stage-1\nTeam Split\nSereja and ASum\nDevu and decorating birthday cake\nRatings and Rankings\nBest Cake Ever\nRange of Data\nWeird Question\nMedian of adjacent maximum numbers\nChef and Trip\nMike and Matrices\nBarcelona Gameplay Tactics\nPrefix Inversions\nXenny and Coin Rankings\nTotal Diamonds\nEvent Organizer\nmaximize the sum\nChef and Counting Test\nHow to Minimize a String\nKill them with your success\nChef and Segments\nSum and GCD\nChef and Three Dogs\nMatches\nChef and Easy Problem\nChef and Rotation\nChefs and Voting for best friend\nAll Substrings\nMinions and Voting\nLucy and the Number Game\nThe Leaking Robot\nPermutation Shuffle\nBinary Nim 2\nMax and Electrical Panel\nChef and Magical Jars\nChef and Semi-Primes\nNo Change Required\nMakx Sum\nMinimum and Maximum\nPositive AND\nMy Fair Coins\nHome Delivery\nMatrix Again\nChef and Ballons\nParity Again\nC - Chef and Maths\nArray Modification\nMisinterpretation\nCheckpoints\nemitL\nAda Matrix\nPath-etic Products\nDividing Machine\nSnake Eating\nGood Permutations\nDevuLand, Dinosaurs and Laddus\nGuddu and his Mother\nAge Calculator\nFencing\nBinary Nim\nColoring the Grid\nPumping Water\nSet Difference\nA temple of Snakes\nClimbing Stairs\nOR Matrix\nSnackUp\nMax Range Queries\nBulbs and Wires\nDistribute idlis Equally\nChefina and Swap\nJohnny and the Beanstalk\nDistances\nBear and AB\nChef and Line\nTree difference\nMax Mex\nSheokand and Number\nGrid Tour\nRich Substrings\nChef team\nChef and Digits\nChef and Tuples\nChef and a Beautiful Digit\nAlok-nath and His Sanskars\nCherry and Bits\nWay Out\nAda Bishop 2\nSereja and Array and Subtracting\nChef and Problem Setting\nSummary Power\nStatistics Construction\nBox Game\nEquality\nPolo the Penguin and the Numbers\nChef and Destruction\nSafe Robot\nDoraemon\nPoker\nChef and Time Machine\nXOR N-bonacci Sequence\nBetter Maximal Sum\nYet Another Crossover Episode\nAlmost Sorted Permutation\nPlaying with Numbers\nChef and Walking on the rectangle\nLet us construct palindrome\nA Prime Conjecture\nAlien Invasion\nCourses in an university\nThe White Knight\nChef and Integers\nChef and Cube\nChef and Walk\nDoof fires Brackets\nLittle Elephant and Music\nSubtraction Game 2\nChef and Maximum Star Value\nStrange Function\nWord Couting\nDivisibility by 9\nMaximum Unique Segment\nLevy Conjecture\nEasy Subsequence Selection\nChef and Left-Right\nKingdom Unity\nThe hardest gcd problem\nDoctor Chef\nRoads in Chefland\nCounting Inversions Revisited\nPied Piper vs Hooli\nLet us play with rank list\nBeautiful Garland\nChef Restores a Matrix\nSquared Subsequences\nFaded Palindromes\nSuperpowers of 2\nChef and Adventures\nOneTwo\nPalindrome\nArt\nTwo Groups\nChef and Secret Password\nGarden Squares\nFind the Sum\nMinimum Sum\nObtain Desired Standard Deviation\nOpposite Cites\nMaximize LCM\nGravity Guy\nThree Integers\nPainting\nBirthday Gift Again\nMagic Rankings\nAnother Card Game Problem\nOperations on a Matrix\nLittle Elephant and Subarrays\nReal obtuse\nMaximise Subsequence Value\nFun with Rotation\nFunny Marbles\nCleaning Tables\nGuess the number\nThe Gray-Similar Code\nSmallest KMP\nSwapping to Palindrome\nCapital Movement\nBinary Concatenation\nMoney Transformation\nSwapping\nChang and the Perfect Function\nChef and Weird Queries\nGalactik Football\nMagical Girl and Colored Liquid Potions\nDelivery Boy\nIsolation Centers\nPositive Mex\nReach The Point\nPogo Stick Competition\nPermutation and Palindrome\nChef Learning Hungarian Algorithm\nD-Or\nPlanting Trees\nUnder the Tunnels\nChef of the Year\nZombie and the Caves\nHelp Martha\nTwo Variables\nATM\nMaximum Score\nDistinct Pairs\nFast Food\nHarrenhal\nChef and Memory Limit\nRooks\nRight Triangle\nChef and Football Match\nEven Matrix\nChef and Dynamo\nMultiple of 3\nBeautiful Array\nNot All Flavours\nChefina and Swaps\nChef got Recipes\nChef and Pepperoni Pizza\nFierce Battles\nForest Gathering\nBear and Extra Number\nPer Capita Income\nDrink Slush\nDoof on Cartesian\nMagda and Silly Pairs\nMixi Game\nChef and Secret Ingredients\nBon Appetit\nChef and Wedding Arrangements\nChef, Chefina and Their Friendship\nSubtree Removal\nApproximately II\nChef and Reversing\nAndrew and the Meatballs again\nUnit GCD\nChef and new recipe\nCounting Flags\nRecover the Sequence\nThe Tricky Deal\nSquare Digit Squares\nLucky Number Game\nDigital clock\nChef and Interview\nPenalty Shoot-Out II\nLittle Elephant and Lemonade\nMissing some chairs\nMinimum Good Permutation\nDummy Palindromic Strings\nGravel\nMissing a Point\nXOR Game\nMaxim and Dividers\nThe Tom and Jerry Game!\nDilemma\nChef and Equality\nPath-etic Sums\nXOR Engine\nWhat Is This, a Crossover Episode\nSubanagrams\nMinion Chef and Bananas\nGift Rift\nChef and Socks\nGranama Recipes\nThe Probability Of Winning\nOdd Divisors\nRoot the Tree\nEat Twice\nK-Foldable String\nMix the Colors\nGold Mining\nInternet Media Types\nConvert the String\nChef Goes to the Cinema\nPolo the Penguin and the Test\nIPC Trainers\nPairing Chefs\nSimple Operations\nHussain Set\nWatson asks Does Permutation Exist\nStupid Machine\nStrange Number\nEquality\nDistinct Codes\nArranging the Appetizers\nBhallaladeva\nMaximize Disjoint Pair Sum\nChef and Proportion\nMaximum AND\nChef and Subset\nMisha and Nice Sets\nHello Hello\nChef and Numbers\nCakewalk\nKisses & Hugs\nChef and Girlfriend\nModular GCD\nStacks\nN different palindromes\nHelping Lira\nTojo hates probabilities\nIncreasing Decreasing\nGCD operations\nPhone Prices\nMysterious Sequence\nGame on a Strip\nMake a Permutation\nDaily Train\nDecreasing Srrnmieeda\nK-Concatenation\nChef and Chain\nChef and Coins Game\nExam Cheating\nCode\nCount K-Primes\nBob and His Friends\nDish Owner\nChef Restaurant\nLack of Logic\nCorrectness of Knight Move\nPolygon Relationship\nA Simple Equation\nBox of Chocolates\nDessert Wizard\nChef and the XORed Number\nMany Chefs\nName Reduction\nMinimum Distance\nSpoon in Matrix\nPuppy and game\nChef and Apple Trees\nReversing directions\nMax Mex\nChef and Digit Jumps\nMatrix Decomposition\nOR-thodox Distinction\nThe Morning Commute\nPizza Delivery\nLittle Elephant and Divisors\nThe Way to a Friends House Is Never Too Long\nGood Prefix\nChef and the stones\nAnother Birthday Present!\nXOR with Subset\nLittle Chef and Numbers\nMagic Elements\nWeird Walk\nThree Different Numbers\nThe Army\nChef and Ground\nJohnny and the Beanstalk\nApproximately\nChef and Frogs\nPaying up\nDistinct Characters Subsequence\nLongest Common Pattern\nBroken Telephone\nRow and Column Operations\nSherlock and the Grid\nChef and Kingship\nMaximum Candies\nRecipe Reconstruction\nNot a Triangle\nChef and Party\nAndrew and the Meatballs\nShortest Path in Binary Trees\nCode Crazy Minions\nLittle Elephant and Strings\nFit to Play\nStone\nLittle Chef and Sums\nChef and Stones\nAttic Crossing\nChef and easy problem\nFire Escape Routes\nSubarray GCD\nChef and Subarray\nSum Queries\nThe Ball And Cups\nWalk\nLucky Long\nOpen the Dragon Scroll\nSuraj goes shopping\nPlease like me\nWalk on the Axis\nDecreasing String\nProcessing a string\nCompilers and parsers\nPermutation Cycles\nCounting Pretty Numbers\nDivide the Cake\nMagic Pairs\nLittle Elephant and Bombs\nSubtraction Game 1\nYour Name is Mine\nGCD2\nCopy-Paste\nThe Best Box\nTourist Translations\nNumber Game Revisited\nSplitting Candies\nChef-jumping\nArranging Cup-cakes\nChef and The Right Triangles\nChopsticks\nA Very Easy Problem!\nDividing Stamps\nLittle Elephant and Permutations\nDiscrepancies in the Voters List\nBuying Sweets\nPrime Generator\nChef and Feedback\nNuclear Reactors\nThe Minimum Number Of Moves\nMaximum Weight Difference\nJewels and Stones\nCount Substrings\nPaying up\nCarvans\nTransform the Expression\nChef and Notebooks\nCoin Flip\nCleaning Up\nUncle Johny\nRacing Horses\nCiel and A-B Problem\nFactorial\nLife, the Universe, and Everything\n"
     ]
    }
   ],
   "source": [
    "for i in prob_names:\n",
    "    print(i)"
   ]
  },
  {
   "cell_type": "code",
   "execution_count": null,
   "metadata": {},
   "outputs": [],
   "source": []
  }
 ]
}