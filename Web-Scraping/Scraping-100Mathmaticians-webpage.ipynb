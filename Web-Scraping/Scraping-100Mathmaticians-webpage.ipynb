{
 "metadata": {
  "language_info": {
   "codemirror_mode": {
    "name": "ipython",
    "version": 3
   },
   "file_extension": ".py",
   "mimetype": "text/x-python",
   "name": "python",
   "nbconvert_exporter": "python",
   "pygments_lexer": "ipython3",
   "version": "3.8.3-final"
  },
  "orig_nbformat": 2,
  "kernelspec": {
   "name": "python3",
   "display_name": "Python 3"
  }
 },
 "nbformat": 4,
 "nbformat_minor": 2,
 "cells": [
  {
   "cell_type": "code",
   "execution_count": 1,
   "metadata": {},
   "outputs": [
    {
     "output_type": "stream",
     "name": "stdout",
     "text": [
      "0  Isaac Newton\n Archimedes\n Carl F. Gauss\n Leonhard Euler\n Bernhard Riemann\n\n1  Archimedes\n Carl F. Gauss\n Leonhard Euler\n Bernhard Riemann\n\n2  Carl F. Gauss\n Leonhard Euler\n Bernhard Riemann\n\n3  Leonhard Euler\n Bernhard Riemann\n\n4  Bernhard Riemann\n\n5  Henri Poincaré\n Joseph-Louis Lagrange\n Euclid  of Alexandria\n David Hilbert\n Gottfried W. Leibniz\n\n6  Joseph-Louis Lagrange\n Euclid  of Alexandria\n David Hilbert\n Gottfried W. Leibniz\n\n7  Euclid  of Alexandria\n David Hilbert\n Gottfried W. Leibniz\n\n8  David Hilbert\n Gottfried W. Leibniz\n\n9  Gottfried W. Leibniz\n\n10  Alexandre Grothendieck\n Pierre de Fermat\n Évariste Galois\n John von Neumann\n René Descartes\n\n11  Pierre de Fermat\n Évariste Galois\n John von Neumann\n René Descartes\n\n12  Évariste Galois\n John von Neumann\n René Descartes\n\n13  John von Neumann\n René Descartes\n\n14  René Descartes\n\n15  Karl W. T. Weierstrass\n Srinivasa Ramanujan\n Hermann K. H. Weyl\n Peter G. L. Dirichlet\n Niels Abel\n\n16  Srinivasa Ramanujan\n Hermann K. H. Weyl\n Peter G. L. Dirichlet\n Niels Abel\n\n17  Hermann K. H. Weyl\n Peter G. L. Dirichlet\n Niels Abel\n\n18  Peter G. L. Dirichlet\n Niels Abel\n\n19  Niels Abel\n\n20  Georg Cantor\n Carl G. J. Jacobi\n Brahmagupta\n Augustin Cauchy\n Arthur Cayley\n\n21  Carl G. J. Jacobi\n Brahmagupta\n Augustin Cauchy\n Arthur Cayley\n\n22  Brahmagupta\n Augustin Cauchy\n Arthur Cayley\n\n23  Augustin Cauchy\n Arthur Cayley\n\n24  Arthur Cayley\n\n25  Emmy Noether\n Pythagoras  of Samos\n Aryabhata\n Leonardo `Fibonacci'\n William R. Hamilton\n\n26  Pythagoras  of Samos\n Aryabhata\n Leonardo `Fibonacci'\n William R. Hamilton\n\n27  Aryabhata\n Leonardo `Fibonacci'\n William R. Hamilton\n\n28  Leonardo `Fibonacci'\n William R. Hamilton\n\n29  William R. Hamilton\n\n30  Apollonius  of Perga\n Charles Hermite\n Pierre-Simon Laplace\n Carl Ludwig Siegel\n Johannes Kepler\n\n31  Charles Hermite\n Pierre-Simon Laplace\n Carl Ludwig Siegel\n Johannes Kepler\n\n32  Pierre-Simon Laplace\n Carl Ludwig Siegel\n Johannes Kepler\n\n33  Carl Ludwig Siegel\n Johannes Kepler\n\n34  Johannes Kepler\n\n35  Diophantus  of Alexandria\n Muhammed al-Khowârizmi\n Kurt Gödel\n Richard Dedekind\n Felix Christian Klein\n\n36  Muhammed al-Khowârizmi\n Kurt Gödel\n Richard Dedekind\n Felix Christian Klein\n\n37  Kurt Gödel\n Richard Dedekind\n Felix Christian Klein\n\n38  Richard Dedekind\n Felix Christian Klein\n\n39  Felix Christian Klein\n\n40  Bháscara (II) Áchárya\n Blaise Pascal\n Élie Cartan\n Archytas  of Tarentum\n Godfrey H. Hardy\n\n41  Blaise Pascal\n Élie Cartan\n Archytas  of Tarentum\n Godfrey H. Hardy\n\n42  Élie Cartan\n Archytas  of Tarentum\n Godfrey H. Hardy\n\n43  Archytas  of Tarentum\n Godfrey H. Hardy\n\n44  Godfrey H. Hardy\n\n45  Alhazen ibn al-Haytham\n Jean le Rond d'Alembert\n F.E.J. Émile Borel\n Julius Plücker\n Hipparchus  of Nicaea\n\n46  Jean le Rond d'Alembert\n F.E.J. Émile Borel\n Julius Plücker\n Hipparchus  of Nicaea\n\n47  F.E.J. Émile Borel\n Julius Plücker\n Hipparchus  of Nicaea\n\n48  Julius Plücker\n Hipparchus  of Nicaea\n\n49  Hipparchus  of Nicaea\n\n50  Andrey N. Kolmogorov\n Joseph Liouville\n Eudoxus  of Cnidus\n F. Gotthold Eisenstein\n Jacob Bernoulli\n\n51  Joseph Liouville\n Eudoxus  of Cnidus\n F. Gotthold Eisenstein\n Jacob Bernoulli\n\n52  Eudoxus  of Cnidus\n F. Gotthold Eisenstein\n Jacob Bernoulli\n\n53  F. Gotthold Eisenstein\n Jacob Bernoulli\n\n54  Jacob Bernoulli\n\n55  Stefan Banach\n Jacques Hadamard\n Giuseppe Peano\n Panini  of Shalatula\n André Weil\n\n56  Jacques Hadamard\n Giuseppe Peano\n Panini  of Shalatula\n André Weil\n\n57  Giuseppe Peano\n Panini  of Shalatula\n André Weil\n\n58  Panini  of Shalatula\n André Weil\n\n59  André Weil\n\n60  Jean-Pierre Serre\n Jakob Steiner\n Marius Sophus Lie\n F. L. Gottlob Frege\n François Viète\n\n61  Jakob Steiner\n Marius Sophus Lie\n F. L. Gottlob Frege\n François Viète\n\n62  Marius Sophus Lie\n F. L. Gottlob Frege\n François Viète\n\n63  F. L. Gottlob Frege\n François Viète\n\n64  François Viète\n\n65  Christiaan Huygens\n M. E. Camille Jordan\n Joseph Fourier\n Bonaventura Cavalieri\n Hermann G. Grassmann\n\n66  M. E. Camille Jordan\n Joseph Fourier\n Bonaventura Cavalieri\n Hermann G. Grassmann\n\n67  Joseph Fourier\n Bonaventura Cavalieri\n Hermann G. Grassmann\n\n68  Bonaventura Cavalieri\n Hermann G. Grassmann\n\n69  Hermann G. Grassmann\n\n70  Albert Einstein\n James C. Maxwell\n Girolamo Cardano\n Aristotle\n Galileo Galilei\n\n71  James C. Maxwell\n Girolamo Cardano\n Aristotle\n Galileo Galilei\n\n72  Girolamo Cardano\n Aristotle\n Galileo Galilei\n\n73  Aristotle\n Galileo Galilei\n\n74  Galileo Galilei\n\n75  Michael F. Atiyah\n Atle Selberg\n Alfred Tarski\n Gaspard Monge\n L.E.J. Brouwer\n\n76  Atle Selberg\n Alfred Tarski\n Gaspard Monge\n L.E.J. Brouwer\n\n77  Alfred Tarski\n Gaspard Monge\n L.E.J. Brouwer\n\n78  Gaspard Monge\n L.E.J. Brouwer\n\n79  L.E.J. Brouwer\n\n80  Liu Hui\n Alan M. Turing\n Jean-Victor Poncelet\n John E. Littlewood\n Shiing-Shen Chern\n\n81  Alan M. Turing\n Jean-Victor Poncelet\n John E. Littlewood\n Shiing-Shen Chern\n\n82  Jean-Victor Poncelet\n John E. Littlewood\n Shiing-Shen Chern\n\n83  John E. Littlewood\n Shiing-Shen Chern\n\n84  Shiing-Shen Chern\n\n85  James J. Sylvester\n Henri Léon Lebesgue\n Johann Bernoulli\n Ernst E. Kummer\n Johann H. Lambert\n\n86  Henri Léon Lebesgue\n Johann Bernoulli\n Ernst E. Kummer\n Johann H. Lambert\n\n87  Johann Bernoulli\n Ernst E. Kummer\n Johann H. Lambert\n\n88  Ernst E. Kummer\n Johann H. Lambert\n\n89  Johann H. Lambert\n\n90  George Pólya\n Felix Hausdorff\n George D. Birkhoff\n Pafnuti Chebyshev\n Adrien M. Legendre\n\n91  Felix Hausdorff\n George D. Birkhoff\n Pafnuti Chebyshev\n Adrien M. Legendre\n\n92  George D. Birkhoff\n Pafnuti Chebyshev\n Adrien M. Legendre\n\n93  Pafnuti Chebyshev\n Adrien M. Legendre\n\n94  Adrien M. Legendre\n\n95  John F. Nash, Jr.\n Israel M. Gelfand\n John Wallis\n Omar al-Khayyám\n Thales  of Miletus\n\n96  Israel M. Gelfand\n John Wallis\n Omar al-Khayyám\n Thales  of Miletus\n\n97  John Wallis\n Omar al-Khayyám\n Thales  of Miletus\n\n98  Omar al-Khayyám\n Thales  of Miletus\n\n99  Thales  of Miletus\n\n"
     ]
    }
   ],
   "source": [
    "from bs4 import BeautifulSoup\n",
    "import requests #this library get a request to recieve a response of the url if existed\n",
    "\n",
    "url = \"https://www.fabpedigree.com/james/mathmen.htm\"\n",
    "\n",
    "raw_html = requests.get(url) #same as opening a file, but here we have a url so we use request for it\n",
    "\n",
    "html = BeautifulSoup(raw_html.text, 'html.parser')\n",
    "\n",
    "for i, li in enumerate(html.select('li')):\n",
    "    print(i, li.text)"
   ]
  },
  {
   "cell_type": "code",
   "execution_count": null,
   "metadata": {},
   "outputs": [],
   "source": []
  }
 ]
}